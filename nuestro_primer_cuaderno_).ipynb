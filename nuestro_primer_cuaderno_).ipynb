{
  "nbformat": 4,
  "nbformat_minor": 0,
  "metadata": {
    "colab": {
      "provenance": [],
      "include_colab_link": true
    },
    "kernelspec": {
      "name": "python3",
      "display_name": "Python 3"
    },
    "language_info": {
      "name": "python"
    }
  },
  "cells": [
    {
      "cell_type": "markdown",
      "metadata": {
        "id": "view-in-github",
        "colab_type": "text"
      },
      "source": [
        "<a href=\"https://colab.research.google.com/github/jlaw9874/realestate-datacleanup-exercise/blob/main/nuestro_primer_cuaderno_).ipynb\" target=\"_parent\"><img src=\"https://colab.research.google.com/assets/colab-badge.svg\" alt=\"Open In Colab\"/></a>"
      ]
    },
    {
      "cell_type": "code",
      "execution_count": null,
      "metadata": {
        "id": "XdGagCAAo5xZ"
      },
      "outputs": [],
      "source": [
        "# demostrar que"
      ]
    },
    {
      "cell_type": "markdown",
      "source": [
        "$$ \\hat{N} = \\frac{k_{1} * k_{2}}{recapture} $$  \n",
        "\n",
        "$$ \\mathbb{E}[ \\hat{N}] = N $$"
      ],
      "metadata": {
        "id": "_g7aR9DGpD2G"
      }
    },
    {
      "cell_type": "code",
      "source": [
        "import numpy as np\n",
        "N = 130"
      ],
      "metadata": {
        "id": "QIs5Xl3spY1B"
      },
      "execution_count": null,
      "outputs": []
    },
    {
      "cell_type": "code",
      "source": [
        "data = [i for i in range(1, N+1)]"
      ],
      "metadata": {
        "id": "OsjT_MYPpgw4"
      },
      "execution_count": null,
      "outputs": []
    },
    {
      "cell_type": "code",
      "source": [
        "k1 = 40\n",
        "k2 = 40\n",
        "book1  = np.random.choice(data, size=k1, replace=False)\n",
        "book2 = np.random.choice(data, size=k2, replace=False)"
      ],
      "metadata": {
        "id": "1ifVJ6YCpqnQ"
      },
      "execution_count": null,
      "outputs": []
    },
    {
      "cell_type": "code",
      "source": [
        "book1"
      ],
      "metadata": {
        "colab": {
          "base_uri": "https://localhost:8080/"
        },
        "id": "-x_8CseWqw1I",
        "outputId": "9b6b9d7c-e969-4a5b-aa55-5d2884dee667"
      },
      "execution_count": null,
      "outputs": [
        {
          "output_type": "execute_result",
          "data": {
            "text/plain": [
              "array([107,  45,  91,  10,  81,  75,  79,  66,  67,  14,   1, 110, 129,\n",
              "        52,  17,  36,  37,   7,  80,  85,  13,  61,  29, 130, 114,  30,\n",
              "        77,  40,  22,  58,  76,   8,  86,  41,  90,  39, 100,  68,  82,\n",
              "        16])"
            ]
          },
          "metadata": {},
          "execution_count": 232
        }
      ]
    },
    {
      "cell_type": "code",
      "source": [
        "book2"
      ],
      "metadata": {
        "colab": {
          "base_uri": "https://localhost:8080/"
        },
        "id": "S3J0qwI0rFAx",
        "outputId": "df55334b-e03f-4c9f-d744-2f6ec66d4594"
      },
      "execution_count": null,
      "outputs": [
        {
          "output_type": "execute_result",
          "data": {
            "text/plain": [
              "array([ 25,  20,  24,  74, 101, 119, 117, 110, 102,  10,   4,  15,  95,\n",
              "        84,  64, 114,  76,  39,   9, 109, 129,   1,  90,  92,  42,  98,\n",
              "        79,  48,  85,  27,  72,  12,  66,  62, 100,  55,  16, 123, 125,\n",
              "       111])"
            ]
          },
          "metadata": {},
          "execution_count": 233
        }
      ]
    },
    {
      "cell_type": "code",
      "source": [
        "acum = 0\n",
        "for elemento in book1:\n",
        "  if elemento in book2:\n",
        "    acum = acum +1\n",
        "recapts = acum"
      ],
      "metadata": {
        "id": "_IK0uvKMs78r"
      },
      "execution_count": null,
      "outputs": []
    },
    {
      "cell_type": "code",
      "source": [
        "N_hat = (k1*k2)/recapts"
      ],
      "metadata": {
        "id": "AXkQuPF7t5NM"
      },
      "execution_count": null,
      "outputs": []
    },
    {
      "cell_type": "code",
      "source": [
        "N_hat, N"
      ],
      "metadata": {
        "colab": {
          "base_uri": "https://localhost:8080/"
        },
        "id": "cFQd51dct9dO",
        "outputId": "2657b4c0-2bf7-4060-c225-481756e74308"
      },
      "execution_count": null,
      "outputs": [
        {
          "output_type": "execute_result",
          "data": {
            "text/plain": [
              "(123.07692307692308, 130)"
            ]
          },
          "metadata": {},
          "execution_count": 236
        }
      ]
    },
    {
      "cell_type": "code",
      "source": [
        "def N_hat(k1,k2, N):\n",
        "  data = [i for i in range(1, N+1)]\n",
        "  book1  = np.random.choice(data, size=k1, replace=False)\n",
        "  book2 = np.random.choice(data, size=k2, replace=False)\n",
        "  acum = 0\n",
        "  for elemento in book1:\n",
        "    if elemento in book2:\n",
        "      acum = acum +1\n",
        "  recapts = acum\n",
        "  return (k1*k2)/recapts"
      ],
      "metadata": {
        "id": "6WPcfOZ0uNLA"
      },
      "execution_count": null,
      "outputs": []
    },
    {
      "cell_type": "code",
      "source": [
        "trials = 10000\n",
        "outcomes = [N_hat(85, 90, 245) for _ in range(trials)]"
      ],
      "metadata": {
        "id": "UFUHMeDFuvQg"
      },
      "execution_count": null,
      "outputs": []
    },
    {
      "cell_type": "code",
      "source": [
        "import matplotlib.pyplot as plt"
      ],
      "metadata": {
        "id": "W97Gv0oyvJuH"
      },
      "execution_count": null,
      "outputs": []
    },
    {
      "cell_type": "code",
      "source": [
        "sum(outcomes)/len(outcomes)"
      ],
      "metadata": {
        "colab": {
          "base_uri": "https://localhost:8080/"
        },
        "id": "z-tlX2jlvOVM",
        "outputId": "63a31adc-1e28-4f5a-d688-bc9f32cda4fb"
      },
      "execution_count": null,
      "outputs": [
        {
          "output_type": "execute_result",
          "data": {
            "text/plain": [
              "248.04542991482757"
            ]
          },
          "metadata": {},
          "execution_count": 240
        }
      ]
    },
    {
      "cell_type": "code",
      "source": [
        "plt.hist(outcomes)"
      ],
      "metadata": {
        "colab": {
          "base_uri": "https://localhost:8080/",
          "height": 534
        },
        "id": "aUSsFij2vL_9",
        "outputId": "87f44355-13d2-4a1d-de3e-dc4648fa6473"
      },
      "execution_count": null,
      "outputs": [
        {
          "output_type": "execute_result",
          "data": {
            "text/plain": [
              "(array([  53., 1091., 2472., 3252., 2231.,  650.,  142.,   90.,   10.,\n",
              "           9.]),\n",
              " array([166.30434783, 189.93707094, 213.56979405, 237.20251716,\n",
              "        260.83524027, 284.46796339, 308.1006865 , 331.73340961,\n",
              "        355.36613272, 378.99885584, 402.63157895]),\n",
              " <BarContainer object of 10 artists>)"
            ]
          },
          "metadata": {},
          "execution_count": 241
        },
        {
          "output_type": "display_data",
          "data": {
            "text/plain": [
              "<Figure size 640x480 with 1 Axes>"
            ],
            "image/png": "[encoded data removed]"
          },
          "metadata": {}
        }
      ]
    }
  ]
}